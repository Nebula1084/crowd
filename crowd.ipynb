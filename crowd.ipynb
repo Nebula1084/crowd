{
 "cells": [
  {
   "cell_type": "code",
   "execution_count": 1,
   "metadata": {},
   "outputs": [],
   "source": [
    "import pandas as pd\n",
    "import nlp.sanitize as st\n",
    "import nlp.embedding as eb                                                                                                                                                          \n",
    "\n",
    "%load_ext autoreload\n",
    "%autoreload 2"
   ]
  },
  {
   "cell_type": "code",
   "execution_count": 2,
   "metadata": {},
   "outputs": [
    {
     "name": "stdout",
     "output_type": "stream",
     "text": [
      "0                [waiting, for, train, to, arrive, at]\n",
      "1    [waiting, for, the, train, to, arrive, with, j...\n",
      "2           [waiting, for, the, train, to, arrive, at]\n",
      "3    [exit, entrance, f, is, pretty, cool, at, litt...\n",
      "4    [i, just, don, t, feel, like, walking, tamad, ...\n",
      "Name: tokens, dtype: object\n"
     ]
    }
   ],
   "source": [
    "tweet = pd.ExcelFile('./data/tweet.xlsx')\n",
    "data = tweet.parse('Data')\n",
    "data = st.standardize(data, 'tweet_text')\n",
    "print(data['tokens'].head())"
   ]
  }
 ],
 "metadata": {
  "kernelspec": {
   "display_name": "Python 3",
   "language": "python",
   "name": "python3"
  },
  "language_info": {
   "codemirror_mode": {
    "name": "ipython",
    "version": 3
   },
   "file_extension": ".py",
   "mimetype": "text/x-python",
   "name": "python",
   "nbconvert_exporter": "python",
   "pygments_lexer": "ipython3",
   "version": "3.5.2"
  }
 },
 "nbformat": 4,
 "nbformat_minor": 1
}
