{
 "cells": [
  {
   "cell_type": "code",
   "execution_count": 1,
   "metadata": {
    "collapsed": false
   },
   "outputs": [],
   "source": [
    "import pandas as pd\n",
    "import nlp.sanitize as st\n",
    "import nlp.embedding as eb                                                                                                                                                          \n",
    "\n",
    "%load_ext autoreload\n",
    "%autoreload 2"
   ]
  },
  {
   "cell_type": "code",
   "execution_count": 3,
   "metadata": {},
   "outputs": [
    {
     "name": "stdout",
     "output_type": "stream",
     "text": [
      "0                [waiting, for, train, to, arrive, at]\n1    [waiting, for, the, train, to, arrive, with, j...\n2           [waiting, for, the, train, to, arrive, at]\n3    [exit, entrance, f, is, pretty, cool, at, litt...\n4    [i, just, don, t, feel, like, walking, tamad, ...\nName: tokens, dtype: object\n"
     ]
    }
   ],
   "source": [
    "tweet = pd.ExcelFile('./data/tweet.xlsx')\n",
    "data = tweet.parse('Data')\n",
    "data = st.standardize(data, 'tweet_text')\n",
    "print(data['tokens'].head())\n"
   ]
  },
  {
   "cell_type": "code",
   "execution_count": null,
   "metadata": {},
   "outputs": [],
   "source": [
    "from sklearn.model_selection import train_test_split\n",
    "\n",
    "embeddings = eb.get_word2vec_embeddings(clean_questions)\n",
    "X_train_word2vec, X_test_word2vec, y_train_word2vec, y_test_word2vec = train_test_split(embeddings, list_labels,\n",
    "                                                                                        test_size=0.2, random_state=40)\n"
   ]
  }
 ],
 "metadata": {
  "kernelspec": {
   "display_name": "Python 2",
   "language": "python",
   "name": "python2"
  },
  "language_info": {
   "codemirror_mode": {
    "name": "ipython",
    "version": 2
   },
   "file_extension": ".py",
   "mimetype": "text/x-python",
   "name": "python",
   "nbconvert_exporter": "python",
   "pygments_lexer": "ipython2",
   "version": "2.7.6"
  }
 },
 "nbformat": 4,
 "nbformat_minor": 0
}
