{
 "cells": [
  {
   "cell_type": "code",
   "execution_count": 1,
   "metadata": {},
   "outputs": [],
   "source": [
    "import pandas as pd\n",
    "import nlp.sanitize as st\n",
    "import nlp.embedding as eb\n",
    "import numpy as np\n",
    "import yaml\n",
    "%load_ext autoreload\n",
    "%autoreload 2"
   ]
  },
  {
   "cell_type": "code",
   "execution_count": 3,
   "metadata": {},
   "outputs": [
    {
     "name": "stdout",
     "output_type": "stream",
     "text": [
      "0                [waiting, for, train, to, arrive, at]\n",
      "1    [waiting, for, the, train, to, arrive, with, j...\n",
      "2           [waiting, for, the, train, to, arrive, at]\n",
      "3    [exit, entrance, f, is, pretty, cool, at, litt...\n",
      "4    [i, just, don, t, feel, like, walking, tamad, ...\n",
      "Name: tokens, dtype: object\n"
     ]
    }
   ],
   "source": [
    "tweet = pd.ExcelFile('./data/tweet_merged.xlsx')\n",
    "data = tweet.parse('Sheet1')\n",
    "data = st.standardize(data, 'tweet_text')\n",
    "print(data['tokens'].head())"
   ]
  },
  {
   "cell_type": "code",
   "execution_count": 6,
   "metadata": {},
   "outputs": [],
   "source": [
    "from nlp.embedding import load_embeddings\n",
    "from sklearn.model_selection import train_test_split\n",
    "\n",
    "label = data['BREAKDOWN']\n",
    "embeddings = load_embeddings('./data/embeddings_merged')\n",
    "X_train, X_test, y_train, y_test = train_test_split(embeddings[:700], label[:700], test_size=0.2, random_state=40)\n"
   ]
  },
  {
   "cell_type": "code",
   "execution_count": 7,
   "metadata": {},
   "outputs": [
    {
     "data": {
      "text/plain": [
       "LinearSVC(C=1.0, class_weight=None, dual=True, fit_intercept=True,\n",
       "     intercept_scaling=1, loss='squared_hinge', max_iter=1000,\n",
       "     multi_class='ovr', penalty='l2', random_state=None, tol=0.0001,\n",
       "     verbose=0)"
      ]
     },
     "execution_count": 7,
     "metadata": {},
     "output_type": "execute_result"
    }
   ],
   "source": [
    "from sklearn.svm import LinearSVC\n",
    "svm_w2v = LinearSVC()\n",
    "svm_w2v.fit(X_train, y_train)"
   ]
  },
  {
   "cell_type": "code",
   "execution_count": 10,
   "metadata": {},
   "outputs": [
    {
     "name": "stdout",
     "output_type": "stream",
     "text": [
      "accuracy = 0.889, precision = 0.897, recall = 0.889, f1 = 0.886\n"
     ]
    }
   ],
   "source": [
    "import nlp.lsa as lsa\n",
    "\n",
    "y_train_predicted = svm_w2v.predict(X_train)\n",
    "\n",
    "res = lsa.get_metrics(y_train, y_train_predicted)\n",
    "print(\"accuracy = %.3f, precision = %.3f, recall = %.3f, f1 = %.3f\" % res)\n"
   ]
  },
  {
   "cell_type": "code",
   "execution_count": 13,
   "metadata": {},
   "outputs": [
    {
     "name": "stdout",
     "output_type": "stream",
     "text": [
      "[6. 2. 2. 1. 1. 0. 0. 0. 0. 2. 1. 4. 0. 2. 0. 0. 4. 0. 1. 0. 6. 1. 0. 6.\n",
      " 1. 2. 0. 0. 0. 0. 0. 0. 0. 0. 2. 0. 4. 0. 2. 1. 1. 0. 0. 0. 0. 1. 1. 6.\n",
      " 2. 0. 6. 1. 1. 1. 4. 1. 0. 0. 2. 0. 0. 2. 1. 2. 2. 6. 0. 0. 4. 6. 2. 2.\n",
      " 0. 4. 0. 4. 1. 6. 0. 0. 0. 1. 0. 0. 0. 0. 1. 4. 0. 0. 0. 3. 0. 2. 0. 2.\n",
      " 0. 0. 6. 0. 4. 0. 0. 2. 0. 0. 0. 0. 0. 0. 0. 0. 0. 2. 0. 0. 2. 2. 0. 0.\n",
      " 0. 0. 0. 6. 2. 4. 1. 6. 1. 2. 1. 0. 0. 0. 0. 0. 3. 0. 4. 0.]\n",
      "accuracy = 0.807, precision = 0.784, recall = 0.807, f1 = 0.787\n"
     ]
    },
    {
     "name": "stderr",
     "output_type": "stream",
     "text": [
      "/home/issac/Workspace/LanguageProcessing/crowd/venv/lib/python3.5/site-packages/sklearn/metrics/classification.py:1135: UndefinedMetricWarning: Precision is ill-defined and being set to 0.0 in labels with no predicted samples.\n",
      "  'precision', 'predicted', average, warn_for)\n",
      "/home/issac/Workspace/LanguageProcessing/crowd/venv/lib/python3.5/site-packages/sklearn/metrics/classification.py:1135: UndefinedMetricWarning: F-score is ill-defined and being set to 0.0 in labels with no predicted samples.\n",
      "  'precision', 'predicted', average, warn_for)\n"
     ]
    }
   ],
   "source": [
    "y_test_predicted = svm_w2v.predict(X_test)\n",
    "print(y_test_predicted)\n",
    "res = lsa.get_metrics(y_test, y_test_predicted)\n",
    "print(\"accuracy = %.3f, precision = %.3f, recall = %.3f, f1 = %.3f\" % res)"
   ]
  },
  {
   "cell_type": "code",
   "execution_count": null,
   "metadata": {},
   "outputs": [],
   "source": []
  }
 ],
 "metadata": {
  "kernelspec": {
   "display_name": "Python 3",
   "language": "python",
   "name": "python3"
  },
  "language_info": {
   "codemirror_mode": {
    "name": "ipython",
    "version": 3
   },
   "file_extension": ".py",
   "mimetype": "text/x-python",
   "name": "python",
   "nbconvert_exporter": "python",
   "pygments_lexer": "ipython3",
   "version": "3.5.2"
  }
 },
 "nbformat": 4,
 "nbformat_minor": 1
}
